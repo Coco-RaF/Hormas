{
 "cells": [
  {
   "cell_type": "code",
   "execution_count": 1,
   "id": "8509e871",
   "metadata": {},
   "outputs": [],
   "source": [
    "import pandas as pd\n",
    "from model.embedding import encode_text"
   ]
  },
  {
   "cell_type": "code",
   "execution_count": 2,
   "id": "283fd73a",
   "metadata": {},
   "outputs": [],
   "source": [
    "df = pd.read_excel(\"data/hormas_data_kor.xlsx\")"
   ]
  },
  {
   "cell_type": "code",
   "execution_count": 5,
   "id": "2d057a2b",
   "metadata": {},
   "outputs": [
    {
     "data": {
      "text/html": [
       "<div>\n",
       "<style scoped>\n",
       "    .dataframe tbody tr th:only-of-type {\n",
       "        vertical-align: middle;\n",
       "    }\n",
       "\n",
       "    .dataframe tbody tr th {\n",
       "        vertical-align: top;\n",
       "    }\n",
       "\n",
       "    .dataframe thead th {\n",
       "        text-align: right;\n",
       "    }\n",
       "</style>\n",
       "<table border=\"1\" class=\"dataframe\">\n",
       "  <thead>\n",
       "    <tr style=\"text-align: right;\">\n",
       "      <th></th>\n",
       "      <th>user_review</th>\n",
       "      <th>user_rating</th>\n",
       "      <th>response</th>\n",
       "      <th>user_sentiment</th>\n",
       "      <th>user_emotion</th>\n",
       "      <th>user_intention</th>\n",
       "      <th>COT_response_kor</th>\n",
       "      <th>basic_response_kor</th>\n",
       "      <th>zeroCOT_response_kor</th>\n",
       "    </tr>\n",
       "  </thead>\n",
       "  <tbody>\n",
       "    <tr>\n",
       "      <th>0</th>\n",
       "      <td>저희는 집에서 가족과 함께 밤을 보내기 위해 이 호텔에 왔습니다. 프런트 데스크 직...</td>\n",
       "      <td>1</td>\n",
       "      <td>솔직한 피드백을 보내주셔서 감사합니다. 소음 불만 해결에 대한 프런트 데스크 팀의 ...</td>\n",
       "      <td>Negative</td>\n",
       "      <td>Anger</td>\n",
       "      <td>Complaint</td>\n",
       "      <td>저희 호텔에서 부정적인 경험을 하셨다니 정말 유감입니다. 특히 가족과의 밤을 기대하...</td>\n",
       "      <td>게스트님께,\\n\\n시간을 내어 최근 호텔에서의 숙박에 관한 의견을 보내주셔서 감사합...</td>\n",
       "      <td>소중한 고객님께,\\n\\n무엇보다도 최근 저희 호텔에 머무시는 동안 고객님과 고객님 ...</td>\n",
       "    </tr>\n",
       "    <tr>\n",
       "      <th>1</th>\n",
       "      <td>매력적인 외관에 속지 마세요. 입구는 단순히 측면과 후면에 지어진 호텔로 이동하는 ...</td>\n",
       "      <td>1</td>\n",
       "      <td>고객님, 트립어드바이저에 숙박에 관한 의견을 남겨 주셔서 감사합니다.   저희와의 ...</td>\n",
       "      <td>Negative</td>\n",
       "      <td>Disgust</td>\n",
       "      <td>Expressing Dissatisfaction</td>\n",
       "      <td>저희 호텔에서 부정적인 경험을 하셨다니 정말 유감입니다. 투숙 기간 동안 이러한 불...</td>\n",
       "      <td>투숙 중 실망스러운 경험을 하셨다니 정말 유감입니다. 특히 몬트리올과 같이 친절하기...</td>\n",
       "      <td>소중한 고객님께,\\n\\n무엇보다도 최근 투숙 기간 동안 겪으신 경험에 대해 진심으로...</td>\n",
       "    </tr>\n",
       "  </tbody>\n",
       "</table>\n",
       "</div>"
      ],
      "text/plain": [
       "                                         user_review  user_rating  \\\n",
       "0  저희는 집에서 가족과 함께 밤을 보내기 위해 이 호텔에 왔습니다. 프런트 데스크 직...            1   \n",
       "1  매력적인 외관에 속지 마세요. 입구는 단순히 측면과 후면에 지어진 호텔로 이동하는 ...            1   \n",
       "\n",
       "                                            response user_sentiment  \\\n",
       "0  솔직한 피드백을 보내주셔서 감사합니다. 소음 불만 해결에 대한 프런트 데스크 팀의 ...       Negative   \n",
       "1  고객님, 트립어드바이저에 숙박에 관한 의견을 남겨 주셔서 감사합니다.   저희와의 ...       Negative   \n",
       "\n",
       "  user_emotion              user_intention  \\\n",
       "0        Anger                   Complaint   \n",
       "1      Disgust  Expressing Dissatisfaction   \n",
       "\n",
       "                                    COT_response_kor  \\\n",
       "0  저희 호텔에서 부정적인 경험을 하셨다니 정말 유감입니다. 특히 가족과의 밤을 기대하...   \n",
       "1  저희 호텔에서 부정적인 경험을 하셨다니 정말 유감입니다. 투숙 기간 동안 이러한 불...   \n",
       "\n",
       "                                  basic_response_kor  \\\n",
       "0  게스트님께,\\n\\n시간을 내어 최근 호텔에서의 숙박에 관한 의견을 보내주셔서 감사합...   \n",
       "1  투숙 중 실망스러운 경험을 하셨다니 정말 유감입니다. 특히 몬트리올과 같이 친절하기...   \n",
       "\n",
       "                                zeroCOT_response_kor  \n",
       "0  소중한 고객님께,\\n\\n무엇보다도 최근 저희 호텔에 머무시는 동안 고객님과 고객님 ...  \n",
       "1  소중한 고객님께,\\n\\n무엇보다도 최근 투숙 기간 동안 겪으신 경험에 대해 진심으로...  "
      ]
     },
     "execution_count": 5,
     "metadata": {},
     "output_type": "execute_result"
    }
   ],
   "source": [
    "df.head(2)"
   ]
  },
  {
   "cell_type": "code",
   "execution_count": 7,
   "id": "f2694606",
   "metadata": {},
   "outputs": [],
   "source": [
    "for i in range(len(df)):\n",
    "    resp_human = df.loc[i, 'response']\n",
    "    resp_cot = df.loc[i, 'COT_response_kor']\n",
    "    resp_basic = df.loc[i, 'basic_response_kor']\n",
    "    resp_zerocot = df.loc[i, 'zeroCOT_response_kor']\n",
    "    \n",
    "    cot_embedding_similarity_with_human = encode_text(resp_human, resp_cot)\n",
    "    basic_embedding_similarity_with_human = encode_text(resp_human, resp_basic)\n",
    "    zerocot_embedding_similarity_with_human = encode_text(resp_human, resp_zerocot)\n",
    "    \n",
    "    df.loc[i, 'COT_embedding_similarity_with_human'] = cot_embedding_similarity_with_human\n",
    "    df.loc[i, 'basic_embedding_similarity_with_human'] = basic_embedding_similarity_with_human\n",
    "    df.loc[i, 'zeroCOT_embedding_similarity_with_human'] = zerocot_embedding_similarity_with_human"
   ]
  },
  {
   "cell_type": "code",
   "execution_count": 9,
   "id": "bc85cade",
   "metadata": {},
   "outputs": [],
   "source": [
    "df.to_excel(\"data/hormas_data_kor_with_embedding_similarity.xlsx\", index=False)"
   ]
  },
  {
   "cell_type": "code",
   "execution_count": null,
   "id": "aed1edc5",
   "metadata": {},
   "outputs": [],
   "source": []
  }
 ],
 "metadata": {
  "kernelspec": {
   "display_name": "space_0",
   "language": "python",
   "name": "python3"
  },
  "language_info": {
   "codemirror_mode": {
    "name": "ipython",
    "version": 3
   },
   "file_extension": ".py",
   "mimetype": "text/x-python",
   "name": "python",
   "nbconvert_exporter": "python",
   "pygments_lexer": "ipython3",
   "version": "3.11.10"
  }
 },
 "nbformat": 4,
 "nbformat_minor": 5
}
